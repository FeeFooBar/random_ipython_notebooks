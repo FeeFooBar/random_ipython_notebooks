{
 "cells": [
  {
   "cell_type": "markdown",
   "metadata": {},
   "source": [
    "# SeatGeek rankings\n",
    "\n",
    "In this python notebook, I explore the question \"What is the state that has best venue scores on average?\"\n",
    "We can answer this question with relative ease thanks to SeatGeek public API. We can get the venues information by running the following api request:\n",
    "\n",
    "```\n",
    "http://api.seatgeek.com/2/venues\n",
    "```\n",
    "\n",
    "We can know how many venues are registered in SeatGeek public api by examining the meta data that comes in the response of the previous request. A simple way for loading the response into a nice JSON using python is:"
   ]
  },
  {
   "cell_type": "code",
   "execution_count": 1,
   "metadata": {
    "collapsed": false
   },
   "outputs": [
    {
     "name": "stdout",
     "output_type": "stream",
     "text": [
      "0    61670\n",
      "Name: meta.total, dtype: int64\n",
      "0    [{u'city': u'Arlington', u'stats': {u'event_co...\n",
      "Name: venues, dtype: object\n"
     ]
    }
   ],
   "source": [
    "import urllib2\n",
    "import json\n",
    "import pandas as pd\n",
    "import numpy as np\n",
    "\n",
    "response = urllib2.urlopen('http://api.seatgeek.com/2/venues?per_page=1000&page=1')\n",
    "data = json.load(response)\n",
    "data = pd.io.json.json_normalize(data)\n",
    "print data['meta.total']\n",
    "print data['venues']"
   ]
  },
  {
   "cell_type": "markdown",
   "metadata": {},
   "source": [
    "So we can now see how many venues are registered in SeatGeek public api. Now, we want to group all the venue scores by state. This can be done using pandas. First, we need  a dictionary to hold the statistics for each state. We do this by defining a dictionary as follows:"
   ]
  },
  {
   "cell_type": "code",
   "execution_count": 2,
   "metadata": {
    "collapsed": false
   },
   "outputs": [],
   "source": [
    "venue_states = {u'AK':[],u'AL':[],u'AZ':[],u'AR':[],u'CA':[],u'CO':[],u'CT':[],u'DE':[],u'FL':[],u'GA':[],u'HI':[],u'ID':[],u'IL':[],\n",
    "u'IN':[],u'IA':[],u'KS':[],u'KY':[],u'LA':[],u'ME':[],u'MD':[],u'MA':[],u'MI':[],u'MN':[],u'MS':[],u'MO':[],u'MT':[],u'NE':[],u'NV':[],\n",
    "u'NH':[],u'NJ':[],u'NM':[],u'NY':[],u'NC':[],u'ND':[],u'OH':[],u'OK':[],u'OR':[],u'PA':[],u'RI':[],u'SC':[],u'SD':[],u'TN':[],u'TX':[],u'UT':[],\n",
    "u'VT':[],u'VA':[],u'WA':[],u'WV':[],u'WI':[],u'WY':[]}\n",
    "\n",
    "venue_state_scores = {u'AK':0,u'AL':0,u'AZ':0,u'AR':0,u'CA':0,u'CO':0,u'CT':0,u'DE':0,u'FL':0,u'GA':0,u'HI':0,u'ID':0,u'IL':0,\n",
    "u'IN':0,u'IA':0,u'KS':0,u'KY':0,u'LA':0,u'ME':0,u'MD':0,u'MA':0,u'MI':0,u'MN':0,u'MS':0,u'MO':0,u'MT':0,u'NE':0,u'NV':0,\n",
    "u'NH':0,u'NJ':0,u'NM':0,u'NY':0,u'NC':0,u'ND':0,u'OH':0,u'OK':0,u'OR':0,u'PA':0,u'RI':0,u'SC':0,u'SD':0,u'TN':0,u'TX':0,u'UT':0,\n",
    "u'VT':0,u'VA':0,u'WA':0,u'WV':0,u'WI':0,u'WY':0}"
   ]
  },
  {
   "cell_type": "markdown",
   "metadata": {},
   "source": [
    "Now, we can group by ```country``` and ```state``` and add the corresponding scores to our dictionary ```venue_states```"
   ]
  },
  {
   "cell_type": "code",
   "execution_count": 3,
   "metadata": {
    "collapsed": false
   },
   "outputs": [],
   "source": [
    "venues = pd.io.json.json_normalize(data['venues'][0])\n",
    "\n",
    "for state in venues.groupby('state').groups.keys():\n",
    "    if state in venue_states:\n",
    "        venue_states[state] += venues.groupby('state').groups[state]\n"
   ]
  },
  {
   "cell_type": "markdown",
   "metadata": {},
   "source": [
    "Now, we can find the scores for each venue by using the list of ids we have for every ```state -> id``` mapping we have encoded in our ```venue_states``` dictionary."
   ]
  },
  {
   "cell_type": "code",
   "execution_count": 4,
   "metadata": {
    "collapsed": false
   },
   "outputs": [],
   "source": [
    "for state in venue_states:\n",
    "    if len(venue_states[state]) == 0:\n",
    "        pass\n",
    "    else:\n",
    "        scores = []\n",
    "        for elem in venue_states[state]:\n",
    "            scores.append(venues['score'][elem])\n",
    "        \n",
    "        venue_state_scores[state] = np.average(scores)"
   ]
  },
  {
   "cell_type": "markdown",
   "metadata": {},
   "source": [
    "Now we have our desired results in ```venue_state_scores```. Now, we attempt to visualize this data using histograms. We will only show the top 10 states to not clutter the histogram."
   ]
  },
  {
   "cell_type": "code",
   "execution_count": 9,
   "metadata": {
    "collapsed": false
   },
   "outputs": [
    {
     "data": {
      "image/png": "[encoded data removed]",
      "text/plain": [
       "<matplotlib.figure.Figure at 0x1043c62d0>"
      ]
     },
     "metadata": {},
     "output_type": "display_data"
    }
   ],
   "source": [
    "%matplotlib inline\n",
    "\n",
    "import operator\n",
    "import matplotlib.pyplot as plt\n",
    "import seaborn as sns\n",
    "\n",
    "\n",
    "sorted_state_scores = sorted(venue_state_scores.items(), key=operator.itemgetter(1))\n",
    "top_ten = sorted_state_scores[-10:][::-1]\n",
    "\n",
    "top_ten = dict(top_ten)\n",
    "plt.bar(np.arange(len(top_ten)), top_ten.values(), align='center')\n",
    "plt.xticks(np.arange(len(top_ten)), top_ten.keys())\n",
    "ymax = max(top_ten.values())\n",
    "plt.ylim(0.700, ymax)\n",
    "plt.show()"
   ]
  }
 ],
 "metadata": {
  "celltoolbar": "Raw Cell Format",
  "kernelspec": {
   "display_name": "Python 2",
   "language": "python",
   "name": "python2"
  },
  "language_info": {
   "codemirror_mode": {
    "name": "ipython",
    "version": 2
   },
   "file_extension": ".py",
   "mimetype": "text/x-python",
   "name": "python",
   "nbconvert_exporter": "python",
   "pygments_lexer": "ipython2",
   "version": "2.7.10"
  }
 },
 "nbformat": 4,
 "nbformat_minor": 0
}
