{
 "cells": [
  {
   "cell_type": "markdown",
   "metadata": {},
   "source": [
    "# SeatGeek rankings\n",
    "\n",
    "In this python notebook, I explore the question \"What is the state that has best venue scores on average?\"\n",
    "We can answer this question with relative ease thanks to SeatGeek public API. We can get the venues information by running the following api request:\n",
    "\n",
    "```\n",
    "http://api.seatgeek.com/2/venues\n",
    "```\n",
    "\n",
    "We can know how many venues are registered in SeatGeek public api by examining the meta data that comes in the response of the previous request. A simple way for loading the response into a nice JSON using python is:"
   ]
  },
  {
   "cell_type": "code",
   "execution_count": 79,
   "metadata": {
    "collapsed": false
   },
   "outputs": [
    {
     "name": "stdout",
     "output_type": "stream",
     "text": [
      "61670\n",
      "13\n"
     ]
    }
   ],
   "source": [
    "import urllib2\n",
    "import json\n",
    "import pandas as pd\n",
    "import numpy as np\n",
    "\n",
    "response = urllib2.urlopen('http://api.seatgeek.com/2/venues?per_page=5000&page=1')\n",
    "data = json.load(response)\n",
    "data = pd.io.json.json_normalize(data)\n",
    "total_results = data['meta.total'][0]\n",
    "results_per_page = data['meta.per_page']\n",
    "total_pages = total_results/int(results_per_page) + 1\n",
    "print total_results\n",
    "print total_pages"
   ]
  },
  {
   "cell_type": "code",
   "execution_count": 85,
   "metadata": {
    "collapsed": true
   },
   "outputs": [],
   "source": [
    "venues = []\n",
    "for i in range(1,total_pages):\n",
    "    response = urllib2.urlopen('http://api.seatgeek.com/2/venues?per_page=5000&page='+str(i))\n",
    "    data = json.load(response)\n",
    "    data = pd.io.json.json_normalize(data)\n",
    "    venues.append(pd.io.json.json_normalize(data['venues'][0]))"
   ]
  },
  {
   "cell_type": "markdown",
   "metadata": {},
   "source": [
    "So we can now see how many venues are registered in SeatGeek public api. Now, we want to group all the venue scores by state. This can be done using pandas. First, we need  a dictionary to hold the statistics for each state. We do this by defining a dictionary as follows:"
   ]
  },
  {
   "cell_type": "code",
   "execution_count": 123,
   "metadata": {
    "collapsed": false
   },
   "outputs": [],
   "source": [
    "venue_states = {u'AK':[],u'AL':[],u'AZ':[],u'AR':[],u'CA':[],u'CO':[],u'CT':[],u'DE':[],u'FL':[],u'GA':[],u'HI':[],u'ID':[],u'IL':[],\n",
    "u'IN':[],u'IA':[],u'KS':[],u'KY':[],u'LA':[],u'ME':[],u'MD':[],u'MA':[],u'MI':[],u'MN':[],u'MS':[],u'MO':[],u'MT':[],u'NE':[],u'NV':[],\n",
    "u'NH':[],u'NJ':[],u'NM':[],u'NY':[],u'NC':[],u'ND':[],u'OH':[],u'OK':[],u'OR':[],u'PA':[],u'RI':[],u'SC':[],u'SD':[],u'TN':[],u'TX':[],u'UT':[],\n",
    "u'VT':[],u'VA':[],u'WA':[],u'WV':[],u'WI':[],u'WY':[]}\n",
    "\n",
    "venue_state_scores = {u'AK':0,u'AL':0,u'AZ':0,u'AR':0,u'CA':0,u'CO':0,u'CT':0,u'DE':0,u'FL':0,u'GA':0,u'HI':0,u'ID':0,u'IL':0,\n",
    "u'IN':0,u'IA':0,u'KS':0,u'KY':0,u'LA':0,u'ME':0,u'MD':0,u'MA':0,u'MI':0,u'MN':0,u'MS':0,u'MO':0,u'MT':0,u'NE':0,u'NV':0,\n",
    "u'NH':0,u'NJ':0,u'NM':0,u'NY':0,u'NC':0,u'ND':0,u'OH':0,u'OK':0,u'OR':0,u'PA':0,u'RI':0,u'SC':0,u'SD':0,u'TN':0,u'TX':0,u'UT':0,\n",
    "u'VT':0,u'VA':0,u'WA':0,u'WV':0,u'WI':0,u'WY':0}"
   ]
  },
  {
   "cell_type": "markdown",
   "metadata": {},
   "source": [
    "Now, we can group by ```country``` and ```state``` and add the corresponding scores to our dictionary ```venue_states```"
   ]
  },
  {
   "cell_type": "code",
   "execution_count": 124,
   "metadata": {
    "collapsed": false
   },
   "outputs": [],
   "source": [
    "for venue in venues:\n",
    "    for state in venue.groupby('state').groups.keys():\n",
    "        if state in venue_states:\n",
    "            venue_states[state] += venue.groupby('state').groups[state]\n",
    "            \n",
    "    for state in venue_states:\n",
    "        scores = []\n",
    "        for elem in venue_states[state]:\n",
    "            if venue['score'][elem] > 0: #only consider scored venues\n",
    "                scores.append(venue['score'][elem])\n",
    "        \n",
    "        if len(scores) > 0:\n",
    "            venue_state_scores[state] = (venue_state_scores[state]+np.average(scores))/2.0\n",
    "        else:\n",
    "            venue_state_scores[state] += 0.0\n"
   ]
  },
  {
   "cell_type": "markdown",
   "metadata": {},
   "source": [
    "Now, we can find the scores for each venue by using the list of ids we have for every ```state -> id``` mapping we have encoded in our ```venue_states``` dictionary. We have our desired results in ```venue_state_scores```. We attempt to visualize this data using histograms. We will only show the top 10 states to not clutter the histogram."
   ]
  },
  {
   "cell_type": "code",
   "execution_count": 132,
   "metadata": {
    "collapsed": false
   },
   "outputs": [
    {
     "data": {
      "image/png": "[encoded data removed]",
      "text/plain": [
       "<matplotlib.figure.Figure at 0x113ca68d0>"
      ]
     },
     "metadata": {},
     "output_type": "display_data"
    }
   ],
   "source": [
    "%matplotlib inline\n",
    "\n",
    "import operator\n",
    "import matplotlib.pyplot as plt\n",
    "import seaborn as sns\n",
    "\n",
    "\n",
    "sorted_state_scores = sorted(venue_state_scores.items(), key=operator.itemgetter(1))\n",
    "top_ten = sorted_state_scores[-10:][::-1]\n",
    "\n",
    "top_ten = dict(top_ten)\n",
    "plt.bar(np.arange(len(top_ten)), top_ten.values(), align='center')\n",
    "plt.xticks(np.arange(len(top_ten)), top_ten.keys())\n",
    "ymax = max(top_ten.values())\n",
    "plt.ylim(0.3, ymax)\n",
    "plt.show()"
   ]
  },
  {
   "cell_type": "code",
   "execution_count": 130,
   "metadata": {
    "collapsed": false
   },
   "outputs": [
    {
     "name": "stdout",
     "output_type": "stream",
     "text": [
      "(u'AR', 0.31086305555555555)\n",
      "(u'SD', 0.30869216911764708)\n",
      "(u'DE', 0.30845291666666663)\n",
      "(u'SC', 0.30808363919413922)\n",
      "(u'GA', 0.30788960407838983)\n",
      "(u'WV', 0.30689457532051279)\n",
      "(u'KS', 0.30570935416666667)\n",
      "(u'NJ', 0.30546709675563732)\n",
      "(u'LA', 0.30503908986175116)\n",
      "(u'CO', 0.30378729279891303)\n",
      "(u'MS', 0.30374429100790512)\n",
      "(u'AK', 0.30350093749999996)\n",
      "(u'FL', 0.30310335726950355)\n",
      "(u'MD', 0.3030188773344652)\n",
      "(u'AZ', 0.30270352901870945)\n",
      "(u'AL', 0.30233959263015553)\n",
      "(u'KY', 0.30213550555555557)\n",
      "(u'NV', 0.30202096424616359)\n",
      "(u'MI', 0.3019886048593351)\n",
      "(u'OH', 0.30168639142049025)\n",
      "(u'NC', 0.30165515816326527)\n",
      "(u'WI', 0.30164775365529461)\n",
      "(u'WA', 0.30132636157984838)\n",
      "(u'UT', 0.30101807142857145)\n",
      "(u'IL', 0.30086491071428573)\n",
      "(u'TX', 0.30063689967975499)\n",
      "(u'MN', 0.29991293650793649)\n",
      "(u'NY', 0.29953172147723878)\n",
      "(u'TN', 0.29940913731963809)\n",
      "(u'CT', 0.29933459448160538)\n",
      "(u'IN', 0.29932012820512821)\n",
      "(u'CA', 0.29909556886139566)\n",
      "(u'WY', 0.29798279761904756)\n",
      "(u'ID', 0.29631737499999999)\n",
      "(u'HI', 0.29619076923076926)\n",
      "(u'MO', 0.29618396233974359)\n",
      "(u'PA', 0.2957970811170213)\n",
      "(u'MA', 0.29535776143790848)\n",
      "(u'VA', 0.2947966870629371)\n",
      "(u'OR', 0.29476800456389451)\n",
      "(u'IA', 0.29434112196765505)\n",
      "(u'VT', 0.29396638888888893)\n",
      "(u'OK', 0.29334060185185185)\n",
      "(u'NM', 0.29239421182266012)\n",
      "(u'ND', 0.29217062500000002)\n",
      "(u'ME', 0.29145455357142863)\n",
      "(u'NE', 0.29044023460410556)\n",
      "(u'NH', 0.28451227272727275)\n",
      "(u'RI', 0.28117776737967914)\n",
      "(u'MT', 0.27942322916666668)\n"
     ]
    }
   ],
   "source": [
    "for i in  sorted_state_scores[::-1]:\n",
    "    print i"
   ]
  }
 ],
 "metadata": {
  "celltoolbar": "Raw Cell Format",
  "kernelspec": {
   "display_name": "Python 2",
   "language": "python",
   "name": "python2"
  },
  "language_info": {
   "codemirror_mode": {
    "name": "ipython",
    "version": 2
   },
   "file_extension": ".py",
   "mimetype": "text/x-python",
   "name": "python",
   "nbconvert_exporter": "python",
   "pygments_lexer": "ipython2",
   "version": "2.7.10"
  }
 },
 "nbformat": 4,
 "nbformat_minor": 0
}
